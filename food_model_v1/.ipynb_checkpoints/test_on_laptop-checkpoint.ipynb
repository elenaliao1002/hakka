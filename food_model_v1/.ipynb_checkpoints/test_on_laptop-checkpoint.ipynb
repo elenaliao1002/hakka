{
 "cells": [
  {
   "cell_type": "code",
   "execution_count": 2,
   "id": "c9606063",
   "metadata": {},
   "outputs": [
    {
     "name": "stdout",
     "output_type": "stream",
     "text": [
      "/Users/annieyuchuan/Desktop/USF/Spring2_project/food_model_v1/yolov5\n",
      "Traceback (most recent call last):\n",
      "  File \"detect.py\", line 37, in <module>\n",
      "    import torch\n",
      "ModuleNotFoundError: No module named 'torch'\n"
     ]
    }
   ],
   "source": [
    "%cd ./yolov5/\n",
    "!python detect.py --weights ./runs/train/exp2/weights/best.pt --img 416 --conf 0.4 --source ../food_roboflow_data/test2/images"
   ]
  },
  {
   "cell_type": "code",
   "execution_count": null,
   "id": "281571a4",
   "metadata": {},
   "outputs": [],
   "source": [
    "for imageName in glob.glob('./yolov5/runs/detect/exp4/*.jpg'): #assuming JPG\n",
    "    display(Image(filename=imageName))\n",
    "    print(\"\\n\")"
   ]
  }
 ],
 "metadata": {
  "kernelspec": {
   "display_name": "Python 3 (ipykernel)",
   "language": "python",
   "name": "python3"
  },
  "language_info": {
   "codemirror_mode": {
    "name": "ipython",
    "version": 3
   },
   "file_extension": ".py",
   "mimetype": "text/x-python",
   "name": "python",
   "nbconvert_exporter": "python",
   "pygments_lexer": "ipython3",
   "version": "3.8.13"
  }
 },
 "nbformat": 4,
 "nbformat_minor": 5
}
